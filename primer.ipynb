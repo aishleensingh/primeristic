{
  "nbformat": 4,
  "nbformat_minor": 0,
  "metadata": {
    "colab": {
      "name": "primer.ipynb",
      "provenance": [],
      "collapsed_sections": []
    },
    "kernelspec": {
      "name": "python3",
      "display_name": "Python 3"
    }
  },
  "cells": [
    {
      "cell_type": "code",
      "metadata": {
        "id": "890lqYx5UU9m",
        "colab_type": "code",
        "outputId": "fa0fa519-e928-4354-a553-ba1e239601da",
        "colab": {
          "base_uri": "https://localhost:8080/",
          "height": 51
        }
      },
      "source": [
        "#Primer Sequence Calculator\n",
        "seq=input(\"Enter sequence of DNA:\")\n",
        "l=len(seq)\n",
        "def primer(seq):\n",
        "    primer = {'A': 'T', 'C': 'G', 'G': 'C', 'T': 'A'} \n",
        "    bases = list(seq) \n",
        "    bases = [primer[base] for base in bases] \n",
        "    return ''.join(bases)\n",
        "    def primer(s):\n",
        "        return primer(s[::-1])\n",
        "p=primer(seq)\n",
        "print(\"Primer Sequence for given DNA is:\",p)\n",
        "      "
      ],
      "execution_count": 0,
      "outputs": [
        {
          "output_type": "stream",
          "text": [
            "Enter sequence of DNA:ATGGTCGATT\n",
            "Primer Sequence for given DNA is: TACCAGCTAA\n"
          ],
          "name": "stdout"
        }
      ]
    },
    {
      "cell_type": "code",
      "metadata": {
        "id": "p0bfpx41VgrP",
        "colab_type": "code",
        "outputId": "d560c46b-d86d-49df-ac1b-c228c398602b",
        "colab": {
          "base_uri": "https://localhost:8080/",
          "height": 102
        }
      },
      "source": [
        "\n",
        "p=input(\"Primer(6-50 bases): \")\n",
        "l=len(p)\n",
        "print(\"Length: \",l)\n",
        "if ((l<6)or(l>50)):\n",
        "  print(\"INVALID INPUT\")\n",
        "else: \n",
        "  #Melting Temperature Calculator\n",
        "  a=0\n",
        "  t=0\n",
        "  c=0\n",
        "  g=0\n",
        "  for m in p:\n",
        "    if m==\"A\":\n",
        "      a=a+1\n",
        "    elif m==\"T\":\n",
        "      t=t+1\n",
        "    elif m==\"C\":\n",
        "      c=c+1\n",
        "    elif m==\"G\":\n",
        "      g=g+1\n",
        "  tm=4*(g+c)+2*(a+t)\n",
        "  print(\"Melting Temperature:{}°C\".format(tm))\n",
        "  #calculation of molecular weight\n",
        "  def molweight(sequence):   \n",
        "    molweight = 0.0\n",
        "    nucleoweight = {'A':331.2218, 'T':322.2085, 'C':307.1971, 'G':347.2212}\n",
        "    for nuc in sequence:\n",
        "        molweight += nucleoweight[nuc]\n",
        "    return molweight\n",
        "  mw=molweight(p)\n",
        "  print(\"Molecular Weight: \",mw)\n",
        "  #calculating GC content\n",
        "  ccount=0\n",
        "  gcount=0\n",
        "  for i in p:\n",
        "    if i==\"G\":\n",
        "      gcount=gcount+1\n",
        "    elif i==\"C\":\n",
        "      ccount=ccount=1\n",
        "  gc=ccount+gcount\n",
        "  gccontent=gc/l*100\n",
        "  print(\"GC Content: \",gccontent)"
      ],
      "execution_count": 0,
      "outputs": [
        {
          "output_type": "stream",
          "text": [
            "Primer(6-50 bases): ATTCCGCGCAGAGTG\n",
            "Length:  15\n",
            "Melting Temperature:48°C\n",
            "Molecular Weight:  4925.185299999999\n",
            "GC Content:  40.0\n"
          ],
          "name": "stdout"
        }
      ]
    },
    {
      "cell_type": "code",
      "metadata": {
        "id": "5nV74vZZXp4E",
        "colab_type": "code",
        "outputId": "bb3bbfbe-3ffb-417c-cc16-13644860e8a2",
        "colab": {
          "base_uri": "https://localhost:8080/",
          "height": 34
        }
      },
      "source": [
        ""
      ],
      "execution_count": 0,
      "outputs": [
        {
          "output_type": "stream",
          "text": [
            "Melting Temperature:  0\n"
          ],
          "name": "stdout"
        }
      ]
    },
    {
      "cell_type": "code",
      "metadata": {
        "id": "O9d3SHH_XRi7",
        "colab_type": "code",
        "outputId": "00bede73-b874-4aef-bf44-c994a65ac9ce",
        "colab": {
          "base_uri": "https://localhost:8080/",
          "height": 51
        }
      },
      "source": [
        "#codon interpreter\n",
        "c=input(\"Enter a codon triplet: \")\n",
        "if (c==\"AUG\"):\n",
        "  amc=\"Methionine/Start\"\n",
        "elif(c==\"UUU\")or(c==\"UUC\"):\n",
        "  amc=\"Phenylalanine\"\n",
        "elif(c==\"UUA\")or(c==\"UUG\")or(c==\"CUU\")or(c==\"CUC\")or(c==\"CUG\")or(c==\"CUA\"):\n",
        "  amc=\"Leucine\"\n",
        "elif(c==\"AUU\")or(c==\"AUC\")or(c==\"AUA\"):\n",
        "  amc=\"Isoleucine\"\n",
        "elif(c==\"GUA\")or(c==\"GUG\")or(c==\"GUC\")or(c==\"GUU\"):\n",
        "  amc=\"Valine\"\n",
        "elif(c==\"UCA\")or(c==\"UCG\")or(c==\"UCC\")or(c==\"UCU\")or(c==\"AGC\")or(c==\"AGU\"):\n",
        "  amc=\"Serine\"\n",
        "elif(c==\"GUA\")or(c==\"GUG\")or(c==\"GUC\")or(c==\"GUU\"):\n",
        "  amc=\"Valine\"\n",
        "elif(c==\"CCA\")or(c==\"CCG\")or(c==\"CCC\")or(c==\"CCU\"):\n",
        "  amc=\"Proline\"\n",
        "elif(c==\"ACA\")or(c==\"ACG\")or(c==\"ACC\")or(c==\"ACU\"):\n",
        "  amc=\"Threonine\"\n",
        "elif(c==\"GCA\")or(c==\"GCG\")or(c==\"GCC\")or(c==\"GCU\"):\n",
        "  amc=\"Alanine\"\n",
        "elif(c==\"UAU\")or(c==\"UAC\"):\n",
        "  amc=\"Tyrosine\"\n",
        "elif(c==\"UAA\")or(c==\"UAG\")or(c==\"UGA\"):\n",
        "  amc=\"STOP\"\n",
        "elif(c==\"CAC\")or(c==\"CAU\"):\n",
        "  amc=\"Histidine\"\n",
        "elif(c==\"CAA\")or(c==\"CAG\"):\n",
        "  amc=\"Glutamine\"\n",
        "elif(c==\"AAU\")or(c==\"AAC\"):\n",
        "  amc=\"Asparagine\"\n",
        "elif(c==\"AAA\")or(c==\"AAG\"):\n",
        "  amc=\"Lysine\"\n",
        "elif(c==\"GAU\")or(c==\"GAC\"):\n",
        "  amc=\"Aspartic Acid\"\n",
        "elif(c==\"GAA\")or(c==\"GAG\"):\n",
        "  amc=\"Glutamic Acid\"\n",
        "elif(c==\"UGU\")or(c==\"UGC\"):\n",
        "  amc=\"Cysteine\"\n",
        "elif(c==\"UGG\"):\n",
        "  amc=\"Tryptophan\"\n",
        "elif(c==\"CGA\")or(c==\"CGG\")or(c==\"CGC\")or(c==\"CGU\")or(c==\"AGG\")or(c==\"AGA\"):\n",
        "  amc=\"Arginine\"\n",
        "elif(c==\"GGA\")or(c==\"GGG\")or(c==\"GGC\")or(c==\"GGU\"):\n",
        "  amc=\"Glycine\"\n",
        "print(\"Amino acid for given codonn is: \",amc)"
      ],
      "execution_count": 0,
      "outputs": [
        {
          "output_type": "stream",
          "text": [
            "Enter a codon triplet: GUG\n",
            "Amino acid for given codonn is:  Valine\n"
          ],
          "name": "stdout"
        }
      ]
    }
  ]
}